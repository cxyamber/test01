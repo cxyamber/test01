{
 "cells": [
  {
   "cell_type": "code",
   "execution_count": 1,
   "metadata": {},
   "outputs": [
    {
     "name": "stdout",
     "output_type": "stream",
     "text": [
      "['Ana', 'Ava', 'bill']\n"
     ]
    }
   ],
   "source": [
    "contacts=[\"Ava\",\"Ana\",\"bill\"]\n",
    "contacts.sort()\n",
    "print(contacts)"
   ]
  },
  {
   "cell_type": "code",
   "execution_count": 1,
   "metadata": {},
   "outputs": [
    {
     "data": {
      "text/plain": [
       "10"
      ]
     },
     "execution_count": 1,
     "metadata": {},
     "output_type": "execute_result"
    }
   ],
   "source": [
    "2*(1+2)**2-2**2*2"
   ]
  },
  {
   "cell_type": "code",
   "execution_count": 3,
   "metadata": {},
   "outputs": [
    {
     "data": {
      "text/plain": [
       "11.3"
      ]
     },
     "execution_count": 3,
     "metadata": {},
     "output_type": "execute_result"
    }
   ],
   "source": [
    "float(int(5.8))+6.3"
   ]
  },
  {
   "cell_type": "code",
   "execution_count": 4,
   "metadata": {},
   "outputs": [
    {
     "ename": "SyntaxError",
     "evalue": "invalid syntax (3620230046.py, line 1)",
     "output_type": "error",
     "traceback": [
      "\u001b[0;36m  Cell \u001b[0;32mIn[4], line 1\u001b[0;36m\u001b[0m\n\u001b[0;31m    n1=int(input\"輸入數字1\")\u001b[0m\n\u001b[0m                ^\u001b[0m\n\u001b[0;31mSyntaxError\u001b[0m\u001b[0;31m:\u001b[0m invalid syntax\n"
     ]
    }
   ],
   "source": [
    "n1=int((input(輸入數字1:\"))\n",
    "n2=int(input\"輸入數字2\")\n",
    "n3=n1+n2"
   ]
  },
  {
   "cell_type": "code",
   "execution_count": 4,
   "metadata": {},
   "outputs": [
    {
     "ename": "ValueError",
     "evalue": "math domain error",
     "output_type": "error",
     "traceback": [
      "\u001b[0;31m---------------------------------------------------------------------------\u001b[0m",
      "\u001b[0;31mValueError\u001b[0m                                Traceback (most recent call last)",
      "Cell \u001b[0;32mIn[4], line 4\u001b[0m\n\u001b[1;32m      2\u001b[0m a\u001b[39m=\u001b[39m\u001b[39mfloat\u001b[39m(\u001b[39minput\u001b[39m(\u001b[39m\"\u001b[39m\u001b[39m請輸入斜邊:\u001b[39m\u001b[39m\"\u001b[39m))\n\u001b[1;32m      3\u001b[0m b\u001b[39m=\u001b[39m\u001b[39mfloat\u001b[39m(\u001b[39minput\u001b[39m(\u001b[39m\"\u001b[39m\u001b[39m請輸入鄰邊:\u001b[39m\u001b[39m\"\u001b[39m))\n\u001b[0;32m----> 4\u001b[0m radion\u001b[39m=\u001b[39mmath\u001b[39m.\u001b[39;49masin(a\u001b[39m/\u001b[39;49mb)\n",
      "\u001b[0;31mValueError\u001b[0m: math domain error"
     ]
    }
   ],
   "source": [
    "import math\n",
    "a=float(input(\"請輸入斜邊:\"))\n",
    "b=float(input(\"請輸入鄰邊:\"))\n",
    "radion=math.asin(b/a)"
   ]
  },
  {
   "cell_type": "code",
   "execution_count": 6,
   "metadata": {},
   "outputs": [
    {
     "name": "stdout",
     "output_type": "stream",
     "text": [
      "三角形角度為:30.000000000000004度\n"
     ]
    }
   ],
   "source": [
    "import math\n",
    "a=5\n",
    "b=2.5\n",
    "rad= math.asin (b/a)\n",
    "degree=math.degrees(rad)\n",
    "print(f\"三角形角度為:{degree}度\")"
   ]
  },
  {
   "cell_type": "code",
   "execution_count": 44,
   "metadata": {},
   "outputs": [
    {
     "name": "stdout",
     "output_type": "stream",
     "text": [
      "優秀\n",
      "學生分數:300\n"
     ]
    }
   ],
   "source": [
    "scores=int(input(\"輸入分數：\"))\n",
    "is_add=input(\"是否加分?()\")\n",
    "\n",
    "if is_add==\"y\":\n",
    "    scores=scores+scores*0.05\n",
    "    if scores>300:\n",
    "        scores=300\n",
    "        print(\"優秀\")\n",
    "\n",
    "elif scores>290:\n",
    "    print(scores,\"可憐阿\")\n",
    "    print(\"你厲害\")\n",
    "\n",
    "else:\n",
    "    print(\"你真的很可憐\")\n",
    "\n",
    "print(f\"學生分數:{scores}\")"
   ]
  },
  {
   "cell_type": "code",
   "execution_count": 41,
   "metadata": {},
   "outputs": [
    {
     "name": "stdout",
     "output_type": "stream",
     "text": [
      "丁\n"
     ]
    }
   ],
   "source": [
    "scores=int(input(\"輸入分數：\"))\n",
    "\n",
    "if scores >=90:\n",
    "    print(\"優\")\n",
    "elif scores>=80:\n",
    "    print(\"甲\")\n",
    "elif scores>=70:\n",
    "    print(\"乙\")\n",
    "elif scores>=60:\n",
    "    print(\"炳\")\n",
    "else:\n",
    "    print(\"丁\")"
   ]
  },
  {
   "cell_type": "code",
   "execution_count": 1,
   "metadata": {},
   "outputs": [
    {
     "name": "stdout",
     "output_type": "stream",
     "text": [
      "中文100分\n"
     ]
    }
   ],
   "source": [
    "C=100\n",
    "if not C==100:\n",
    "    print(\"中文不是100分\")\n",
    "else:\n",
    "    print(\"中文100分\")"
   ]
  },
  {
   "cell_type": "code",
   "execution_count": 50,
   "metadata": {},
   "outputs": [
    {
     "name": "stdout",
     "output_type": "stream",
     "text": [
      "0\n"
     ]
    }
   ],
   "source": [
    "chinese=50\n",
    "english=80\n",
    "\n",
    "if chinese==100 and english ==100:\n",
    "    print('1000')\n",
    "elif chinese ==100 or english ==100 :\n",
    "    print('500')\n",
    "else:\n",
    "    print('0')"
   ]
  },
  {
   "cell_type": "code",
   "execution_count": 55,
   "metadata": {},
   "outputs": [
    {
     "name": "stdout",
     "output_type": "stream",
     "text": [
      "1~100:5050\n"
     ]
    }
   ],
   "source": [
    "result=0\n",
    "for i in range (1,101):\n",
    "    result= result+i\n",
    "\n",
    "print(f\"1~100:{result}\")"
   ]
  },
  {
   "cell_type": "code",
   "execution_count": 2,
   "metadata": {},
   "outputs": [
    {
     "name": "stdout",
     "output_type": "stream",
     "text": [
      "hello\n"
     ]
    }
   ],
   "source": [
    "print(\"hello\")"
   ]
  },
  {
   "cell_type": "code",
   "execution_count": 25,
   "metadata": {},
   "outputs": [
    {
     "name": "stdout",
     "output_type": "stream",
     "text": [
      "~~~猜數字~~~\n",
      "\n",
      "\n",
      "猜對了!答案是:2\n",
      "共猜1次\n",
      "遊戲結束\n"
     ]
    }
   ],
   "source": [
    "import random\n",
    "\n",
    "def PlayGame():\n",
    "    min = 1\n",
    "    max = 3\n",
    "    count = 0\n",
    "    target = random.randint(min,max)\n",
    "    print(\"~~~猜數字~~~\\n\\n\")\n",
    "\n",
    "    while True:\n",
    "        keyin = int(input(f\"猜數字範圍{min}~{max}:\"))\n",
    "        count+=1\n",
    "        if (keyin == target):\n",
    "            print(f\"猜對了!答案是:{target}\")\n",
    "            print(f\"共猜{count}次\")\n",
    "            break\n",
    "        elif keyin > target:\n",
    "            print(\"小一點\")\n",
    "            max = keyin - 1\n",
    "        elif keyin < target:\n",
    "            print(\"大一點\")\n",
    "            min = keyin + 1\n",
    "\n",
    "\n",
    "PlayGame()\n",
    "print(\"遊戲結束\") \n",
    "        "
   ]
  },
  {
   "cell_type": "code",
   "execution_count": 5,
   "metadata": {},
   "outputs": [
    {
     "data": {
      "text/plain": [
       "(404, 'error')"
      ]
     },
     "execution_count": 5,
     "metadata": {},
     "output_type": "execute_result"
    }
   ],
   "source": [
    "(404,\"error\")"
   ]
  },
  {
   "cell_type": "code",
   "execution_count": 22,
   "metadata": {},
   "outputs": [
    {
     "data": {
      "text/plain": [
       "['H', 'e', 'l', 'l', 'o', 'W', 'o', 'r', 'l', 'd']"
      ]
     },
     "execution_count": 22,
     "metadata": {},
     "output_type": "execute_result"
    }
   ],
   "source": [
    "words = list(\"HelloWorld\")\n",
    "words"
   ]
  },
  {
   "cell_type": "code",
   "execution_count": 23,
   "metadata": {},
   "outputs": [
    {
     "data": {
      "text/plain": [
       "['W', 'o', 'r', 'l', 'd']"
      ]
     },
     "execution_count": 23,
     "metadata": {},
     "output_type": "execute_result"
    }
   ],
   "source": [
    "words[-5:]"
   ]
  },
  {
   "cell_type": "code",
   "execution_count": 24,
   "metadata": {},
   "outputs": [
    {
     "data": {
      "text/plain": [
       "['H', 'e', 'l', 'l', 'o']"
      ]
     },
     "execution_count": 24,
     "metadata": {},
     "output_type": "execute_result"
    }
   ],
   "source": [
    "words[:5]"
   ]
  },
  {
   "cell_type": "code",
   "execution_count": 26,
   "metadata": {},
   "outputs": [
    {
     "data": {
      "text/plain": [
       "[['筆記電腦', '商用筆電'], ['APPLE', 'ASUS', 'HTC'], [3, '冰箱', 2, '洗衣機']]"
      ]
     },
     "execution_count": 26,
     "metadata": {},
     "output_type": "execute_result"
    }
   ],
   "source": [
    "#2維list\n",
    "nb = ['筆記電腦', '商用筆電']\n",
    "mobile = ['APPLE', 'ASUS', 'HTC']\n",
    "home = [3, '冰箱', 2, '洗衣機']\n",
    "all3c = [nb, mobile, home]\n",
    "all3c"
   ]
  },
  {
   "cell_type": "code",
   "execution_count": 28,
   "metadata": {},
   "outputs": [
    {
     "name": "stdout",
     "output_type": "stream",
     "text": [
      "商用筆電\n"
     ]
    }
   ],
   "source": [
    "print(all3c[0][1])"
   ]
  },
  {
   "cell_type": "code",
   "execution_count": 31,
   "metadata": {},
   "outputs": [
    {
     "data": {
      "text/plain": [
       "[67, 61, 59, 55, 70]"
      ]
     },
     "execution_count": 31,
     "metadata": {},
     "output_type": "execute_result"
    }
   ],
   "source": [
    "stu1 = list()\n",
    "for _ in range(5):\n",
    "    stu1.append(random.randint(50,85))\n",
    "stu1"
   ]
  },
  {
   "cell_type": "code",
   "execution_count": 33,
   "metadata": {},
   "outputs": [
    {
     "data": {
      "text/plain": [
       "[[52, 54, 76, 53, 94],\n",
       " [88, 87, 98, 50, 87],\n",
       " [79, 80, 50, 78, 91],\n",
       " [77, 54, 95, 69, 83],\n",
       " [60, 60, 87, 72, 55],\n",
       " [98, 58, 98, 63, 96],\n",
       " [50, 54, 66, 64, 91],\n",
       " [85, 83, 67, 97, 67],\n",
       " [55, 55, 100, 84, 64],\n",
       " [63, 58, 69, 63, 98],\n",
       " [70, 60, 75, 60, 78],\n",
       " [62, 57, 87, 98, 96],\n",
       " [68, 93, 96, 65, 92],\n",
       " [86, 52, 60, 53, 70],\n",
       " [99, 82, 57, 51, 99],\n",
       " [71, 94, 65, 100, 92],\n",
       " [63, 61, 96, 82, 83],\n",
       " [70, 91, 90, 89, 83],\n",
       " [71, 70, 77, 92, 98],\n",
       " [62, 72, 76, 70, 79],\n",
       " [70, 98, 85, 71, 83],\n",
       " [55, 89, 61, 72, 77],\n",
       " [51, 83, 81, 59, 97],\n",
       " [72, 65, 76, 78, 95],\n",
       " [52, 60, 89, 89, 90],\n",
       " [83, 77, 60, 85, 60],\n",
       " [51, 73, 82, 61, 81],\n",
       " [82, 64, 62, 85, 52],\n",
       " [80, 90, 80, 89, 82],\n",
       " [92, 79, 80, 72, 81],\n",
       " [53, 94, 89, 58, 69],\n",
       " [96, 94, 92, 85, 60],\n",
       " [86, 86, 52, 94, 79],\n",
       " [67, 66, 73, 85, 80],\n",
       " [62, 86, 59, 68, 92],\n",
       " [71, 97, 55, 97, 97],\n",
       " [97, 87, 66, 95, 79],\n",
       " [76, 79, 88, 75, 80],\n",
       " [67, 77, 53, 50, 95],\n",
       " [97, 89, 59, 85, 50],\n",
       " [53, 60, 95, 53, 72],\n",
       " [95, 74, 54, 80, 84],\n",
       " [74, 68, 59, 67, 68],\n",
       " [59, 54, 75, 76, 76],\n",
       " [84, 94, 59, 64, 50],\n",
       " [85, 70, 84, 70, 100],\n",
       " [61, 75, 57, 82, 66],\n",
       " [52, 64, 58, 61, 91],\n",
       " [60, 73, 70, 53, 80],\n",
       " [80, 53, 82, 57, 59]]"
      ]
     },
     "execution_count": 33,
     "metadata": {},
     "output_type": "execute_result"
    }
   ],
   "source": [
    "students = []\n",
    "for _ in range(50):\n",
    "    stu = list()\n",
    "    for _ in range(5):\n",
    "        stu.append(random.randint(50,100))\n",
    "    students.append(stu)\n",
    "students"
   ]
  },
  {
   "cell_type": "code",
   "execution_count": 1,
   "metadata": {},
   "outputs": [],
   "source": [
    "text = '''python與中文\n",
    "1. 我們來試試看中文儲存能力。\n",
    "2. 許這個字會有編碼衝突風險。\n",
    "3. 犇這個字必須是utf8編碼才有。'''\n",
    "\n",
    "file = open('hello.txt',mode='w')\n",
    "print(text,file=file)\n",
    "file.close()"
   ]
  },
  {
   "cell_type": "code",
   "execution_count": 4,
   "metadata": {},
   "outputs": [],
   "source": [
    "text = '''python與中文\n",
    "1. 我們來試試看中文儲存能力。\n",
    "2. 許這個字會有編碼衝突風險。\n",
    "3. 犇這個字必須是utf8編碼才有。'''\n",
    "\n",
    "file = open('hello.txt','w')\n",
    "print(text,file=file)\n",
    "print('123',file=file)\n",
    "file.close()"
   ]
  },
  {
   "cell_type": "code",
   "execution_count": 10,
   "metadata": {},
   "outputs": [],
   "source": [
    "#w 寫入\n",
    "file = open('hello.txt','w',encoding=\"utf-8\")\n",
    "file.write(\"第一行\\n\")\n",
    "file.write(\"\"\"\n",
    "第二行\n",
    "\"\"\")         \n",
    "file.close()"
   ]
  },
  {
   "cell_type": "code",
   "execution_count": null,
   "metadata": {},
   "outputs": [],
   "source": [
    "#r 讀取\n",
    "file = open('hell.txt',mode='r',encoding=\"utf-8\")\n",
    "all_text = file.read()\n",
    "print(all_text)"
   ]
  },
  {
   "cell_type": "code",
   "execution_count": 2,
   "metadata": {},
   "outputs": [
    {
     "data": {
      "text/plain": [
       "[[89, 95, 89, 90, 91],\n",
       " [58, 62, 64, 66, 71],\n",
       " [60, 73, 53, 91, 90],\n",
       " [84, 71, 52, 73, 80],\n",
       " [84, 98, 55, 65, 59],\n",
       " [60, 99, 57, 65, 59],\n",
       " [99, 57, 52, 97, 81],\n",
       " [100, 65, 55, 55, 54],\n",
       " [52, 55, 84, 69, 72],\n",
       " [95, 70, 83, 98, 88],\n",
       " [79, 59, 56, 91, 54],\n",
       " [96, 55, 62, 60, 63],\n",
       " [69, 93, 59, 80, 90],\n",
       " [58, 85, 100, 73, 52],\n",
       " [50, 80, 73, 82, 93],\n",
       " [70, 62, 67, 56, 87],\n",
       " [61, 51, 97, 74, 86],\n",
       " [57, 98, 69, 89, 72],\n",
       " [67, 73, 65, 55, 55],\n",
       " [69, 92, 70, 86, 82],\n",
       " [96, 98, 100, 52, 73],\n",
       " [81, 57, 84, 99, 81],\n",
       " [77, 53, 85, 89, 64],\n",
       " [66, 62, 69, 76, 75],\n",
       " [95, 83, 87, 69, 76],\n",
       " [69, 70, 58, 99, 64],\n",
       " [99, 56, 68, 100, 62],\n",
       " [77, 91, 93, 98, 63],\n",
       " [87, 99, 77, 65, 52],\n",
       " [94, 60, 64, 99, 51],\n",
       " [53, 55, 69, 64, 68],\n",
       " [91, 80, 79, 62, 75],\n",
       " [98, 76, 93, 59, 70],\n",
       " [85, 55, 56, 84, 84],\n",
       " [57, 87, 98, 83, 82],\n",
       " [79, 72, 54, 77, 53],\n",
       " [62, 95, 90, 60, 94],\n",
       " [57, 92, 91, 71, 90],\n",
       " [80, 75, 57, 61, 56],\n",
       " [69, 53, 55, 59, 53],\n",
       " [58, 53, 74, 97, 95],\n",
       " [72, 88, 70, 52, 67],\n",
       " [69, 88, 76, 84, 85],\n",
       " [86, 59, 58, 63, 84],\n",
       " [86, 76, 81, 59, 57],\n",
       " [71, 80, 64, 96, 66],\n",
       " [80, 68, 55, 74, 55],\n",
       " [80, 90, 50, 71, 75],\n",
       " [60, 84, 65, 63, 83],\n",
       " [81, 88, 73, 56, 96]]"
      ]
     },
     "execution_count": 2,
     "metadata": {},
     "output_type": "execute_result"
    }
   ],
   "source": [
    "import random\n",
    "students  = []\n",
    "for _  in range(50):\n",
    "    stu = list()\n",
    "    for _ in range(5):\n",
    "        stu.append(random.randint(50,  100))\n",
    "    students.append(stu)\n",
    "students"
   ]
  },
  {
   "cell_type": "code",
   "execution_count": 3,
   "metadata": {},
   "outputs": [],
   "source": [
    "import csv\n",
    "csv_write_file = open('students.csv',newline='',mode='w',encoding='utf-8')\n",
    "csv_writer = csv.writer(csv_write_file)\n",
    "csv_writer.writerow(['國文','英文','數學','地理','歷史'])\n",
    "csv_writer.writerows(students)\n",
    "csv_write_file.close()"
   ]
  },
  {
   "cell_type": "code",
   "execution_count": 10,
   "metadata": {},
   "outputs": [
    {
     "name": "stdout",
     "output_type": "stream",
     "text": [
      "密碼錯誤\n"
     ]
    }
   ],
   "source": [
    "#讓使用者輸入密碼,如果輸入的密碼正確(1234), 要顯示「密碼正確!歡迎光臨!」。\n",
    "#如果不正確就顯示密碼錯誤訊息\n",
    "\n",
    "password= int(input(\"請輸入密碼\"))\n",
    "if password == 1234:\n",
    "    print(\"密碼正確!歡迎光臨!\")\n",
    "else:\n",
    "    print(\"密碼錯誤\")"
   ]
  },
  {
   "cell_type": "code",
   "execution_count": null,
   "metadata": {},
   "outputs": [],
   "source": [
    "#連線方式1\n",
    "from urllib import request\n",
    "from urllib import parse\n",
    "\n",
    "url = 'https://data.epa.gov.tw/api/v2/aqx_p_432?api_key=e8dd42e6-9b8b-43f8-991e-b3dee723a52d&limit=1000&sort=ImportDate desc&format=CSV'\n",
    "encode_url = parse.quote(url)\n",
    "\n",
    "request.urlopen(encode_url)\n",
    "\n",
    "#連線方式2\n",
    "from urllib.request import urlopen\n",
    "from urllib.parse import quote\n",
    "\n",
    "url = 'https://data.epa.gov.tw/api/v2/aqx_p_432?api_key=e8dd42e6-9b8b-43f8-991e-b3dee723a52d&limit=1000&sort=ImportDate desc&format=CSV'\n",
    "encode_url = parse.quote(url)\n",
    "\n",
    "request.urlopen(encode_url)\n",
    "\n",
    "#連線方式3\n",
    "import urllib\n",
    "\n",
    "url = 'https://data.epa.gov.tw/api/v2/aqx_p_432?api_key=e8dd42e6-9b8b-43f8-991e-b3dee723a52d&limit=1000&sort=ImportDate desc&format=CSV'\n",
    "\n",
    "encode_url = urllib.parse.quote(url)\n",
    "urllib.request.urlopen(encode_url)"
   ]
  }
 ],
 "metadata": {
  "kernelspec": {
   "display_name": "Python 3",
   "language": "python",
   "name": "python3"
  },
  "language_info": {
   "codemirror_mode": {
    "name": "ipython",
    "version": 3
   },
   "file_extension": ".py",
   "mimetype": "text/x-python",
   "name": "python",
   "nbconvert_exporter": "python",
   "pygments_lexer": "ipython3",
   "version": "3.10.4"
  },
  "orig_nbformat": 4
 },
 "nbformat": 4,
 "nbformat_minor": 2
}
