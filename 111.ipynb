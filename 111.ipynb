{
 "cells": [
  {
   "cell_type": "code",
   "execution_count": 1,
   "metadata": {},
   "outputs": [
    {
     "name": "stdout",
     "output_type": "stream",
     "text": [
      "['Ana', 'Ava', 'bill']\n"
     ]
    }
   ],
   "source": [
    "contacts=[\"Ava\",\"Ana\",\"bill\"]\n",
    "contacts.sort()\n",
    "print(contacts)"
   ]
  },
  {
   "cell_type": "code",
   "execution_count": 1,
   "metadata": {},
   "outputs": [
    {
     "data": {
      "text/plain": [
       "10"
      ]
     },
     "execution_count": 1,
     "metadata": {},
     "output_type": "execute_result"
    }
   ],
   "source": [
    "2*(1+2)**2-2**2*2"
   ]
  },
  {
   "cell_type": "code",
   "execution_count": 3,
   "metadata": {},
   "outputs": [
    {
     "data": {
      "text/plain": [
       "11.3"
      ]
     },
     "execution_count": 3,
     "metadata": {},
     "output_type": "execute_result"
    }
   ],
   "source": [
    "float(int(5.8))+6.3"
   ]
  },
  {
   "cell_type": "code",
   "execution_count": 4,
   "metadata": {},
   "outputs": [
    {
     "ename": "SyntaxError",
     "evalue": "invalid syntax (3620230046.py, line 1)",
     "output_type": "error",
     "traceback": [
      "\u001b[0;36m  Cell \u001b[0;32mIn[4], line 1\u001b[0;36m\u001b[0m\n\u001b[0;31m    n1=int(input\"輸入數字1\")\u001b[0m\n\u001b[0m                ^\u001b[0m\n\u001b[0;31mSyntaxError\u001b[0m\u001b[0;31m:\u001b[0m invalid syntax\n"
     ]
    }
   ],
   "source": [
    "n1=int((input(輸入數字1:\"))\n",
    "n2=int(input\"輸入數字2\")\n",
    "n3=n1+n2"
   ]
  },
  {
   "cell_type": "code",
   "execution_count": 4,
   "metadata": {},
   "outputs": [
    {
     "ename": "ValueError",
     "evalue": "math domain error",
     "output_type": "error",
     "traceback": [
      "\u001b[0;31m---------------------------------------------------------------------------\u001b[0m",
      "\u001b[0;31mValueError\u001b[0m                                Traceback (most recent call last)",
      "Cell \u001b[0;32mIn[4], line 4\u001b[0m\n\u001b[1;32m      2\u001b[0m a\u001b[39m=\u001b[39m\u001b[39mfloat\u001b[39m(\u001b[39minput\u001b[39m(\u001b[39m\"\u001b[39m\u001b[39m請輸入斜邊:\u001b[39m\u001b[39m\"\u001b[39m))\n\u001b[1;32m      3\u001b[0m b\u001b[39m=\u001b[39m\u001b[39mfloat\u001b[39m(\u001b[39minput\u001b[39m(\u001b[39m\"\u001b[39m\u001b[39m請輸入鄰邊:\u001b[39m\u001b[39m\"\u001b[39m))\n\u001b[0;32m----> 4\u001b[0m radion\u001b[39m=\u001b[39mmath\u001b[39m.\u001b[39;49masin(a\u001b[39m/\u001b[39;49mb)\n",
      "\u001b[0;31mValueError\u001b[0m: math domain error"
     ]
    }
   ],
   "source": [
    "import math\n",
    "a=float(input(\"請輸入斜邊:\"))\n",
    "b=float(input(\"請輸入鄰邊:\"))\n",
    "radion=math.asin(b/a)"
   ]
  },
  {
   "cell_type": "code",
   "execution_count": 6,
   "metadata": {},
   "outputs": [
    {
     "name": "stdout",
     "output_type": "stream",
     "text": [
      "三角形角度為:30.000000000000004度\n"
     ]
    }
   ],
   "source": [
    "import math\n",
    "a=5\n",
    "b=2.5\n",
    "rad= math.asin (b/a)\n",
    "degree=math.degrees(rad)\n",
    "print(f\"三角形角度為:{degree}度\")"
   ]
  },
  {
   "cell_type": "code",
   "execution_count": 44,
   "metadata": {},
   "outputs": [
    {
     "name": "stdout",
     "output_type": "stream",
     "text": [
      "優秀\n",
      "學生分數:300\n"
     ]
    }
   ],
   "source": [
    "scores=int(input(\"輸入分數：\"))\n",
    "is_add=input(\"是否加分?()\")\n",
    "\n",
    "if is_add==\"y\":\n",
    "    scores=scores+scores*0.05\n",
    "    if scores>300:\n",
    "        scores=300\n",
    "        print(\"優秀\")\n",
    "\n",
    "elif scores>290:\n",
    "    print(scores,\"可憐阿\")\n",
    "    print(\"你厲害\")\n",
    "\n",
    "else:\n",
    "    print(\"你真的很可憐\")\n",
    "\n",
    "print(f\"學生分數:{scores}\")"
   ]
  },
  {
   "cell_type": "code",
   "execution_count": 41,
   "metadata": {},
   "outputs": [
    {
     "name": "stdout",
     "output_type": "stream",
     "text": [
      "丁\n"
     ]
    }
   ],
   "source": [
    "scores=int(input(\"輸入分數：\"))\n",
    "\n",
    "if scores >=90:\n",
    "    print(\"優\")\n",
    "elif scores>=80:\n",
    "    print(\"甲\")\n",
    "elif scores>=70:\n",
    "    print(\"乙\")\n",
    "elif scores>=60:\n",
    "    print(\"炳\")\n",
    "else:\n",
    "    print(\"丁\")"
   ]
  },
  {
   "cell_type": "code",
   "execution_count": 47,
   "metadata": {},
   "outputs": [
    {
     "name": "stdout",
     "output_type": "stream",
     "text": [
      "中文100分\n"
     ]
    }
   ],
   "source": [
    "C=100\n",
    "if not C==100:\n",
    "    print(\"中文不是100分\")\n",
    "else:\n",
    "    print(\"中文100分\")"
   ]
  },
  {
   "cell_type": "code",
   "execution_count": 50,
   "metadata": {},
   "outputs": [
    {
     "name": "stdout",
     "output_type": "stream",
     "text": [
      "0\n"
     ]
    }
   ],
   "source": [
    "chinese=50\n",
    "english=80\n",
    "\n",
    "if chinese==100 and english ==100:\n",
    "    print('1000')\n",
    "elif chinese ==100 or english ==100 :\n",
    "    print('500')\n",
    "else:\n",
    "    print('0')"
   ]
  },
  {
   "cell_type": "code",
   "execution_count": 55,
   "metadata": {},
   "outputs": [
    {
     "name": "stdout",
     "output_type": "stream",
     "text": [
      "1~100:5050\n"
     ]
    }
   ],
   "source": [
    "result=0\n",
    "for i in range (1,101):\n",
    "    result= result+i\n",
    "\n",
    "print(f\"1~100:{result}\")"
   ]
  },
  {
   "cell_type": "code",
   "execution_count": 2,
   "metadata": {},
   "outputs": [
    {
     "name": "stdout",
     "output_type": "stream",
     "text": [
      "hello\n"
     ]
    }
   ],
   "source": [
    "print(\"hello\")"
   ]
  }
 ],
 "metadata": {
  "kernelspec": {
   "display_name": "Python 3",
   "language": "python",
   "name": "python3"
  },
  "language_info": {
   "codemirror_mode": {
    "name": "ipython",
    "version": 3
   },
   "file_extension": ".py",
   "mimetype": "text/x-python",
   "name": "python",
   "nbconvert_exporter": "python",
   "pygments_lexer": "ipython3",
   "version": "3.10.4"
  },
  "orig_nbformat": 4
 },
 "nbformat": 4,
 "nbformat_minor": 2
}
